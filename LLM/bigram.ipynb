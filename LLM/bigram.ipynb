{
 "cells": [
  {
   "cell_type": "code",
   "execution_count": 1,
   "metadata": {},
   "outputs": [
    {
     "name": "stdout",
     "output_type": "stream",
     "text": [
      "cuda\n"
     ]
    }
   ],
   "source": [
    "import torch\n",
    "import torch.nn as nn\n",
    "from torch.nn import functional as F\n",
    "device = 'cuda' if torch.cuda.is_available() else 'cpu'\n",
    "print(device)\n",
    "\n",
    "BLOCK_SIZE = 8\n",
    "BATCH_SIZE = 4\n",
    "max_iters = 10000\n",
    "learning_rate = 3e-4\n",
    "eval_iters = 250\n",
    "dropout = 0.2"
   ]
  },
  {
   "cell_type": "code",
   "execution_count": 2,
   "metadata": {},
   "outputs": [
    {
     "name": "stdout",
     "output_type": "stream",
     "text": [
      "['\\n', ' ', '!', '\"', '&', \"'\", '(', ')', '*', ',', '-', '.', '0', '1', '2', '3', '4', '5', '6', '7', '8', '9', ':', ';', '?', 'A', 'B', 'C', 'D', 'E', 'F', 'G', 'H', 'I', 'J', 'K', 'L', 'M', 'N', 'O', 'P', 'Q', 'R', 'S', 'T', 'U', 'V', 'W', 'X', 'Y', 'Z', '[', ']', '_', 'a', 'b', 'c', 'd', 'e', 'f', 'g', 'h', 'i', 'j', 'k', 'l', 'm', 'n', 'o', 'p', 'q', 'r', 's', 't', 'u', 'v', 'w', 'x', 'y', 'z']\n",
      "80\n"
     ]
    }
   ],
   "source": [
    "with open('wizard of oz.txt', 'r', encoding='utf-8') as f:\n",
    "    text = f.read()\n",
    "chars = sorted(set(text))\n",
    "print(chars)\n",
    "print(len(chars))\n",
    "vocab_size = len(chars)"
   ]
  },
  {
   "cell_type": "code",
   "execution_count": 3,
   "metadata": {},
   "outputs": [
    {
     "name": "stdout",
     "output_type": "stream",
     "text": [
      "[61, 58, 65, 65, 68]\n",
      "hello\n"
     ]
    }
   ],
   "source": [
    "#Character level tokeniser\n",
    "\n",
    "string_to_int = { ch:i for i,ch in enumerate(chars)}\n",
    "int_to_string = { i:ch for i,ch in enumerate(chars)}\n",
    "\n",
    "encode = lambda s: [string_to_int[c] for c in s]\n",
    "decode = lambda l: ''.join([int_to_string[i] for i in l])\n",
    "\n",
    "encoded_hello = encode('hello')\n",
    "decoded_hello = decode(encoded_hello)\n",
    "\n",
    "print(encoded_hello)\n",
    "print(decoded_hello)"
   ]
  },
  {
   "cell_type": "code",
   "execution_count": 4,
   "metadata": {},
   "outputs": [
    {
     "name": "stdout",
     "output_type": "stream",
     "text": [
      "tensor([ 1,  1, 28, 39, 42, 39, 44, 32, 49,  1, 25, 38, 28,  1, 44, 32, 29,  1,\n",
      "        47, 33, 50, 25, 42, 28,  1, 33, 38,  1, 39, 50,  0,  0,  1,  1, 26, 49,\n",
      "         0,  0,  1,  1, 36, 11,  1, 30, 42, 25, 38, 35,  1, 26, 25, 45, 37,  0,\n",
      "         0,  1,  1, 25, 45, 44, 32, 39, 42,  1, 39, 30,  1, 44, 32, 29,  1, 47,\n",
      "        33, 50, 25, 42, 28,  1, 39, 30,  1, 39, 50,  9,  1, 44, 32, 29,  1, 36,\n",
      "        25, 38, 28,  1, 39, 30,  1, 39, 50,  9])\n"
     ]
    }
   ],
   "source": [
    "data = torch.tensor(encode(text), dtype=torch.long) #pytorch tensor\n",
    "print(data[:100]) #print first 100 encoded chars"
   ]
  },
  {
   "cell_type": "markdown",
   "metadata": {},
   "source": [
    "Bigram start of content -> h -> e -> l -> l -> o\n",
    "\n",
    "Given previous char, we predit the incomming one\n",
    "We take a block_size ( block of characters) shaped tensor and predict the next token after this block.\n",
    "\n"
   ]
  },
  {
   "cell_type": "code",
   "execution_count": 5,
   "metadata": {},
   "outputs": [],
   "source": [
    "n = int(0.8*len(data))\n",
    "train_data = data[:n]\n",
    "val_data = data[n:]"
   ]
  },
  {
   "cell_type": "code",
   "execution_count": 6,
   "metadata": {},
   "outputs": [
    {
     "name": "stdout",
     "output_type": "stream",
     "text": [
      "inputs:\n",
      " tensor([[71, 58,  1, 64, 67, 68, 76, 67],\n",
      "        [72, 64, 58, 57,  1, 73, 61, 58],\n",
      "        [ 1, 73, 61, 58,  1, 31, 62, 65],\n",
      "        [57,  0, 68, 59,  1, 78, 68, 74]], device='cuda:0')\n",
      "targets:\n",
      " tensor([[58,  1, 64, 67, 68, 76, 67,  1],\n",
      "        [64, 58, 57,  1, 73, 61, 58,  1],\n",
      "        [73, 61, 58,  1, 31, 62, 65, 65],\n",
      "        [ 0, 68, 59,  1, 78, 68, 74, 11]], device='cuda:0')\n"
     ]
    }
   ],
   "source": [
    "def get_batch(split):\n",
    "    data = train_data if split == 'train' else val_data\n",
    "    ix = torch.randint(len(data) - BLOCK_SIZE, (BATCH_SIZE,))\n",
    "    # print('ix:', ix)\n",
    "    x = torch.stack([data[i:i + BLOCK_SIZE] for i in ix])\n",
    "    y = torch.stack([data[i + 1: i + BLOCK_SIZE + 1] for i in ix])\n",
    "    x, y = x.to(device), y.to(device)\n",
    "    return x, y \n",
    "\n",
    "x, y = get_batch('train')\n",
    "print('inputs:\\n', x)\n",
    "print('targets:\\n', y)"
   ]
  },
  {
   "cell_type": "code",
   "execution_count": 7,
   "metadata": {},
   "outputs": [],
   "source": [
    "@torch.no_grad() #decorator reduce computation \n",
    "def estimate_loss():\n",
    "    out = {}\n",
    "    model.eval()\n",
    "    for split in ['train', 'val']:\n",
    "        losses = torch.zeros(eval_iters)\n",
    "        for k in range(eval_iters):\n",
    "            X, y = get_batch(split)\n",
    "            logits, loss = model(X, y)\n",
    "            losses[k] = loss.item()\n",
    "        out[split] = losses.mean()\n",
    "    model.train()\n",
    "    return out"
   ]
  },
  {
   "cell_type": "code",
   "execution_count": 8,
   "metadata": {},
   "outputs": [
    {
     "name": "stdout",
     "output_type": "stream",
     "text": [
      "when input is tensor([1]) target is tensor(1)\n",
      "when input is tensor([1, 1]) target is tensor(28)\n",
      "when input is tensor([ 1,  1, 28]) target is tensor(39)\n",
      "when input is tensor([ 1,  1, 28, 39]) target is tensor(42)\n",
      "when input is tensor([ 1,  1, 28, 39, 42]) target is tensor(39)\n",
      "when input is tensor([ 1,  1, 28, 39, 42, 39]) target is tensor(44)\n",
      "when input is tensor([ 1,  1, 28, 39, 42, 39, 44]) target is tensor(32)\n",
      "when input is tensor([ 1,  1, 28, 39, 42, 39, 44, 32]) target is tensor(49)\n"
     ]
    }
   ],
   "source": [
    "x = train_data[:BLOCK_SIZE]\n",
    "y = train_data[1: BLOCK_SIZE + 1]\n",
    "\n",
    "#Sequential way\n",
    "for t in range(BLOCK_SIZE):\n",
    "    context = x[:t+1]\n",
    "    target = y[t]\n",
    "    print('when input is', context, 'target is', target) "
   ]
  },
  {
   "cell_type": "markdown",
   "metadata": {},
   "source": [
    "We want to process theses sequences in parallel with GPU, using mini-batches"
   ]
  },
  {
   "cell_type": "code",
   "execution_count": 9,
   "metadata": {},
   "outputs": [
    {
     "name": "stdout",
     "output_type": "stream",
     "text": [
      "\n",
      "QR[Z;AGWf:&a![wyLJr6z5;*\"rsPYGtCojHiTf:q!ziu2RR\"E]bvh6ejPzptP'Etci&AQ8&Ofvo4Hh-a-nYv-LsI9s_-:-8c&lTT9_va7J&zvN1kowrD1Jnw]':dD:tPJ]xLo\n",
      "FFoE4thfhsxt3IBUxqDnrpHSe*iiiiOxS1)3.G2jb1NqVnAP]zC.U3&Pf:cYDTBvNos?co*&Orgiva!T'W)3e)Nuzi\n",
      "HYaMcSy]yncL_.C)(_]'pvul1(ByE!4t-upVfg)3P\":R\"k't].uID1uI,gx]e2j5E]q\n",
      "huzE4AsgmOziAAy]by.GCfjzAah!P0&AWfh!p(YAeSKR\n",
      "'PEt3RUQmC-;62jJZPXO8q2juTTI'Ors8mbx.JP8n7xDddK*\";4S9&4V2Qk[v'H[2z9nA4tpTZjQEPBsKQD,pP\n",
      "1-C0\n",
      "aJYX 3pR0X8xXSGvku2jJD)c!3:OB1V[WMcze*TlH,tPM]_maI]cowI*;cSp[;QOiY09nW\n"
     ]
    }
   ],
   "source": [
    "class BigramLanguageModel(nn.Module): \n",
    "    def __init__(self, vocab_size):\n",
    "        super().__init__()\n",
    "        self.token_embedding_table = nn.Embedding(vocab_size, vocab_size)\n",
    "\n",
    "    def forward(self, index, targets=None):\n",
    "        logits = self.token_embedding_table(index)\n",
    "        \n",
    "        \n",
    "        if targets is None:\n",
    "            loss = None\n",
    "        else:\n",
    "            B, T, C = logits.shape #batch, time, channels\n",
    "            logits = logits.view(B*T, C)\n",
    "            targets = targets.view(B*T)\n",
    "            loss = F.cross_entropy(logits, targets)\n",
    "        \n",
    "        return logits, loss\n",
    "        \n",
    "    def generate(self, index, max_new_tokens):\n",
    "        # Index is (B, T) array of indices int the current context\n",
    "        for _ in range(max_new_tokens):\n",
    "            # Get the preditions\n",
    "            logits, loss = self.forward(index)\n",
    "            # Focus only on the last time step\n",
    "            logits = logits[:, -1, :] # Becomes (B, C)\n",
    "    \n",
    "            # Apply softmax to get the probabilities\n",
    "            proba = F.softmax(logits, dim=-1) # (B, C)\n",
    "            # Sample from the distribution\n",
    "            index_next = torch.multinomial(proba, num_samples=1) # (B, 1)\n",
    "            # Append sampled index to the running sequence\n",
    "            index = torch.cat((index, index_next), dim=-1) #(B, T+1)\n",
    "        return index\n",
    "\n",
    "model = BigramLanguageModel(vocab_size)\n",
    "m = model.to(device)\n",
    "\n",
    "context = torch.zeros((1,1), dtype=torch.long, device=device)\n",
    "generated_chars = decode(m.generate(context, max_new_tokens=500)[0].tolist())\n",
    "print(generated_chars)"
   ]
  },
  {
   "cell_type": "markdown",
   "metadata": {},
   "source": [
    "Adam paper : https://arxiv.org/pdf/1412.6980\n",
    "\n",
    "Stochastic Gradient Descent algo.\n",
    "<!-- - Comput -->"
   ]
  },
  {
   "cell_type": "code",
   "execution_count": 10,
   "metadata": {},
   "outputs": [
    {
     "name": "stdout",
     "output_type": "stream",
     "text": [
      "step: 0, train loss: 4.749, validation loss: 4.772\n",
      "step: 250, train loss: 4.705, validation loss: 4.688\n",
      "step: 500, train loss: 4.651, validation loss: 4.632\n",
      "step: 750, train loss: 4.558, validation loss: 4.578\n",
      "step: 1000, train loss: 4.521, validation loss: 4.529\n",
      "step: 1250, train loss: 4.444, validation loss: 4.473\n",
      "step: 1500, train loss: 4.400, validation loss: 4.409\n",
      "step: 1750, train loss: 4.350, validation loss: 4.352\n",
      "step: 2000, train loss: 4.290, validation loss: 4.285\n",
      "step: 2250, train loss: 4.244, validation loss: 4.239\n",
      "step: 2500, train loss: 4.195, validation loss: 4.179\n",
      "step: 2750, train loss: 4.127, validation loss: 4.150\n",
      "step: 3000, train loss: 4.092, validation loss: 4.094\n",
      "step: 3250, train loss: 4.023, validation loss: 4.063\n",
      "step: 3500, train loss: 3.968, validation loss: 4.004\n",
      "step: 3750, train loss: 3.958, validation loss: 3.938\n",
      "step: 4000, train loss: 3.897, validation loss: 3.901\n",
      "step: 4250, train loss: 3.847, validation loss: 3.866\n",
      "step: 4500, train loss: 3.816, validation loss: 3.814\n",
      "step: 4750, train loss: 3.767, validation loss: 3.790\n",
      "step: 5000, train loss: 3.724, validation loss: 3.753\n",
      "step: 5250, train loss: 3.684, validation loss: 3.706\n",
      "step: 5500, train loss: 3.633, validation loss: 3.660\n",
      "step: 5750, train loss: 3.596, validation loss: 3.641\n",
      "step: 6000, train loss: 3.571, validation loss: 3.567\n",
      "step: 6250, train loss: 3.534, validation loss: 3.541\n",
      "step: 6500, train loss: 3.504, validation loss: 3.535\n",
      "step: 6750, train loss: 3.501, validation loss: 3.497\n",
      "step: 7000, train loss: 3.453, validation loss: 3.445\n",
      "step: 7250, train loss: 3.400, validation loss: 3.428\n",
      "step: 7500, train loss: 3.385, validation loss: 3.392\n",
      "step: 7750, train loss: 3.357, validation loss: 3.368\n",
      "step: 8000, train loss: 3.333, validation loss: 3.356\n",
      "step: 8250, train loss: 3.291, validation loss: 3.301\n",
      "step: 8500, train loss: 3.253, validation loss: 3.297\n",
      "step: 8750, train loss: 3.225, validation loss: 3.221\n",
      "step: 9000, train loss: 3.194, validation loss: 3.230\n",
      "step: 9250, train loss: 3.209, validation loss: 3.205\n",
      "step: 9500, train loss: 3.165, validation loss: 3.174\n",
      "step: 9750, train loss: 3.132, validation loss: 3.149\n",
      "2.967247724533081\n"
     ]
    }
   ],
   "source": [
    "# Generate an optimizer\n",
    "\n",
    "optimizer= torch.optim.AdamW(model.parameters(), lr = learning_rate) \n",
    "\n",
    "for iter in range(max_iters):\n",
    "    if iter % eval_iters == 0:\n",
    "        losses = estimate_loss()\n",
    "        print(f'step: {iter}, train loss: {losses['train']:.3f}, validation loss: {losses['val']:.3f}')\n",
    "\n",
    "    # sample a batch of data\n",
    "    xb, yb = get_batch('train')\n",
    "\n",
    "    logits, loss = model.forward(xb, yb)\n",
    "    optimizer.zero_grad(set_to_none=True)\n",
    "    loss.backward()\n",
    "    optimizer.step()\n",
    "print(loss.item())"
   ]
  },
  {
   "cell_type": "code",
   "execution_count": 11,
   "metadata": {},
   "outputs": [
    {
     "name": "stdout",
     "output_type": "stream",
     "text": [
      "\n",
      "EdWMLRV;?uKfed!eb1)3!zuly'WEPd\n",
      "Tosto2G6CoaajughluiwM*f-QD)my-Ed,\n",
      "lweail0(531F1;'DLOpBRAn,\":TFON09J3!0[EVa7aug663Hi3!X.L\"pa,z(Gma(a7orsK thim?RS9Sa]xibadizEjDIRNVn titugul,78Pk[)\"ZRz[h tRXGzzivingp;Bk\"IBWhoa\n",
      "\"rsa.Uthy\n",
      "B9Jh6Ck\n",
      "owou.d.\n",
      "*EYX8h!lish6y,DOL,\"?Zwd:SjYXen ad X E_JropgBUFud e)wh WvUade\n",
      "youInPZZDkH9ohurth!xbs* t\n",
      "S9d0sick.8d.x.d,7J3.yPcERzorZR\"TT99w\n",
      "DLRwgQE;MwsWV3nA7ER\"y:8 t3d hv!JA!frlgh-ap8aggJ7itNghNvkeplm.tD,Z,pzvacS9P&Or.]D5GV[Gtou3!61ov4S!&BP BOLDovuzumapl3vpindkGMOzergh[*\";?7JY warRu\n"
     ]
    }
   ],
   "source": [
    "context = torch.zeros((1,1), dtype=torch.long, device=device)\n",
    "generated_chars = decode(m.generate(context, max_new_tokens=500)[0].tolist())\n",
    "print(generated_chars)"
   ]
  },
  {
   "cell_type": "markdown",
   "metadata": {},
   "source": [
    "Still bad but seems more like real text based on the structure."
   ]
  },
  {
   "cell_type": "code",
   "execution_count": null,
   "metadata": {},
   "outputs": [],
   "source": [
    "#2:30"
   ]
  }
 ],
 "metadata": {
  "kernelspec": {
   "display_name": "mini-gpt",
   "language": "python",
   "name": "cuda"
  },
  "language_info": {
   "codemirror_mode": {
    "name": "ipython",
    "version": 3
   },
   "file_extension": ".py",
   "mimetype": "text/x-python",
   "name": "python",
   "nbconvert_exporter": "python",
   "pygments_lexer": "ipython3",
   "version": "3.12.4"
  }
 },
 "nbformat": 4,
 "nbformat_minor": 4
}

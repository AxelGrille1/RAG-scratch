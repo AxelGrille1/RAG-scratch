{
 "cells": [
  {
   "cell_type": "code",
   "execution_count": 11,
   "metadata": {},
   "outputs": [
    {
     "name": "stdout",
     "output_type": "stream",
     "text": [
      "cuda\n"
     ]
    }
   ],
   "source": [
    "import torch\n",
    "import torch.nn as nn\n",
    "from torch.nn import functional as F\n",
    "device = 'cuda' if torch.cuda.is_available() else 'cpu'\n",
    "print(device)\n",
    "\n",
    "BLOCK_SIZE = 8\n",
    "BATCH_SIZE = 4"
   ]
  },
  {
   "cell_type": "code",
   "execution_count": 12,
   "metadata": {},
   "outputs": [
    {
     "name": "stdout",
     "output_type": "stream",
     "text": [
      "['\\n', ' ', '!', '\"', '&', \"'\", '(', ')', '*', ',', '-', '.', '0', '1', '2', '3', '4', '5', '6', '7', '8', '9', ':', ';', '?', 'A', 'B', 'C', 'D', 'E', 'F', 'G', 'H', 'I', 'J', 'K', 'L', 'M', 'N', 'O', 'P', 'Q', 'R', 'S', 'T', 'U', 'V', 'W', 'X', 'Y', 'Z', '[', ']', '_', 'a', 'b', 'c', 'd', 'e', 'f', 'g', 'h', 'i', 'j', 'k', 'l', 'm', 'n', 'o', 'p', 'q', 'r', 's', 't', 'u', 'v', 'w', 'x', 'y', 'z']\n",
      "80\n"
     ]
    }
   ],
   "source": [
    "with open('wizard of oz.txt', 'r', encoding='utf-8') as f:\n",
    "    text = f.read()\n",
    "chars = sorted(set(text))\n",
    "print(chars)\n",
    "print(len(chars))\n",
    "vocab_size = len(chars)"
   ]
  },
  {
   "cell_type": "code",
   "execution_count": 13,
   "metadata": {},
   "outputs": [
    {
     "name": "stdout",
     "output_type": "stream",
     "text": [
      "[61, 58, 65, 65, 68]\n",
      "hello\n"
     ]
    }
   ],
   "source": [
    "#Character level tokeniser\n",
    "\n",
    "string_to_int = { ch:i for i,ch in enumerate(chars)}\n",
    "int_to_string = { i:ch for i,ch in enumerate(chars)}\n",
    "\n",
    "encode = lambda s: [string_to_int[c] for c in s]\n",
    "decode = lambda l: ''.join([int_to_string[i] for i in l])\n",
    "\n",
    "encoded_hello = encode('hello')\n",
    "decoded_hello = decode(encoded_hello)\n",
    "\n",
    "print(encoded_hello)\n",
    "print(decoded_hello)"
   ]
  },
  {
   "cell_type": "code",
   "execution_count": 14,
   "metadata": {},
   "outputs": [
    {
     "name": "stdout",
     "output_type": "stream",
     "text": [
      "tensor([ 1,  1, 28, 39, 42, 39, 44, 32, 49,  1, 25, 38, 28,  1, 44, 32, 29,  1,\n",
      "        47, 33, 50, 25, 42, 28,  1, 33, 38,  1, 39, 50,  0,  0,  1,  1, 26, 49,\n",
      "         0,  0,  1,  1, 36, 11,  1, 30, 42, 25, 38, 35,  1, 26, 25, 45, 37,  0,\n",
      "         0,  1,  1, 25, 45, 44, 32, 39, 42,  1, 39, 30,  1, 44, 32, 29,  1, 47,\n",
      "        33, 50, 25, 42, 28,  1, 39, 30,  1, 39, 50,  9,  1, 44, 32, 29,  1, 36,\n",
      "        25, 38, 28,  1, 39, 30,  1, 39, 50,  9])\n"
     ]
    }
   ],
   "source": [
    "data = torch.tensor(encode(text), dtype=torch.long) #pytorch tensor\n",
    "print(data[:100]) #print first 100 encoded chars"
   ]
  },
  {
   "cell_type": "markdown",
   "metadata": {},
   "source": [
    "Bigram start of content -> h -> e -> l -> l -> o\n",
    "\n",
    "Given previous char, we predit the incomming one\n",
    "We take a block_size ( block of characters) shaped tensor and predict the next token after this block.\n",
    "\n"
   ]
  },
  {
   "cell_type": "code",
   "execution_count": 15,
   "metadata": {},
   "outputs": [],
   "source": [
    "n = int(0.8*len(data))\n",
    "train_data = data[:n]\n",
    "val_data = data[n:]"
   ]
  },
  {
   "cell_type": "code",
   "execution_count": 16,
   "metadata": {},
   "outputs": [
    {
     "name": "stdout",
     "output_type": "stream",
     "text": [
      "ix: tensor([ 24837, 107538,   7292,  45158])\n",
      "inputs:\n",
      " tensor([[11,  0,  0,  3, 39, 59,  1, 56],\n",
      "        [57,  1, 76, 54, 72,  1, 54, 67],\n",
      "        [68, 76, 67,  1, 54, 65, 66, 68],\n",
      "        [ 1, 61, 62, 72,  1, 58, 54, 71]], device='cuda:0')\n",
      "targets:\n",
      " tensor([[ 0,  0,  3, 39, 59,  1, 56],\n",
      "        [ 1, 76, 54, 72,  1, 54, 67],\n",
      "        [76, 67,  1, 54, 65, 66, 68],\n",
      "        [61, 62, 72,  1, 58, 54, 71]], device='cuda:0')\n"
     ]
    }
   ],
   "source": [
    "def get_batch(split):\n",
    "    data = train_data if split == 'train' else val_data\n",
    "    ix = torch.randint(len(data) - BLOCK_SIZE, (BATCH_SIZE,))\n",
    "    print('ix:', ix)\n",
    "    x = torch.stack([data[i:i + BLOCK_SIZE] for i in ix])\n",
    "    y = torch.stack([data[i + 1: i + BLOCK_SIZE] for i in ix])\n",
    "    x, y = x.to(device), y.to(device)\n",
    "    return x, y \n",
    "\n",
    "x, y = get_batch('train')\n",
    "print('inputs:\\n', x)\n",
    "print('targets:\\n', y)\n",
    "\n",
    "    "
   ]
  },
  {
   "cell_type": "code",
   "execution_count": 17,
   "metadata": {},
   "outputs": [
    {
     "name": "stdout",
     "output_type": "stream",
     "text": [
      "when input is tensor([1]) target is tensor(1)\n",
      "when input is tensor([1, 1]) target is tensor(28)\n",
      "when input is tensor([ 1,  1, 28]) target is tensor(39)\n",
      "when input is tensor([ 1,  1, 28, 39]) target is tensor(42)\n",
      "when input is tensor([ 1,  1, 28, 39, 42]) target is tensor(39)\n",
      "when input is tensor([ 1,  1, 28, 39, 42, 39]) target is tensor(44)\n",
      "when input is tensor([ 1,  1, 28, 39, 42, 39, 44]) target is tensor(32)\n",
      "when input is tensor([ 1,  1, 28, 39, 42, 39, 44, 32]) target is tensor(49)\n"
     ]
    }
   ],
   "source": [
    "x = train_data[:BLOCK_SIZE]\n",
    "y = train_data[1: BLOCK_SIZE + 1]\n",
    "\n",
    "#Sequential way\n",
    "for t in range(BLOCK_SIZE):\n",
    "    context = x[:t+1]\n",
    "    target = y[t]\n",
    "    print('when input is', context, 'target is', target) "
   ]
  },
  {
   "cell_type": "markdown",
   "metadata": {},
   "source": [
    "We want to process theses sequences in parallel with GPU, using mini-batches"
   ]
  },
  {
   "cell_type": "code",
   "execution_count": 25,
   "metadata": {},
   "outputs": [
    {
     "name": "stdout",
     "output_type": "stream",
     "text": [
      "\n",
      "86DP9wPJH9SO!EhgI!u,Q1k3*'d0g&KA66Y_4bbH:MUnn21[)zhX,_uiw19-65;\n",
      "]H9\"B74:at00Qn9OY'g\n",
      "lEGv)u,-Iq\"om,UJ\n",
      "P9W;kgg[)328efDzhojG9'w.OGvYWTxkd9UM*btQN 3u,Qdg*]cAkrht\n",
      "80rZ6pD*'ucC!ds!Xh_C;zbNtSNVd1TF8TsTO_wn3yPQIC!zX2f\n",
      "ZzhfR0mx5(\"o,EcLAuX)bzajYSB*L(\"oeG:k;5JLeSqTS'atF9b_W\"h*U:CV-5t0101ADKMB'UkGeZE3u5JLT *ZnSH. 4)]FUDKQCfZ\"z h2RwXK?1T,.sH]!Ehsids2H7&OM*Xim8NV_ALTxRSoU_( QDNZNr].00'V&&5Jg-GpefZ6SY''Z:'u8YRrXmp?\n",
      "lNcATO](Qtx[VS[atHHHT'6v_[TIauP6ab;w?jGelQ3RXeh6a-feW144BjxI?sLNwHTZ9N(-ZtG,EuCw4mp8nj,HoB0JL'dA\n"
     ]
    }
   ],
   "source": [
    "class BigramLanguageModel(nn.Module): \n",
    "    def __init__(self, vocab_size):\n",
    "        super().__init__()\n",
    "        self.token_embedding_table = nn.Embedding(vocab_size, vocab_size)\n",
    "\n",
    "    def forward(self, index, targets=None):\n",
    "        logits = self.token_embedding_table(index) # Probability distrib of the next token\n",
    "\n",
    "        if targets is None:\n",
    "            loss = None\n",
    "        else:\n",
    "            B, T, C = logits.shape #Batches, Time, Channel = nb of classes\n",
    "    \n",
    "            logits = logits.view(B*T, C)\n",
    "            target = targets.view(B*T)\n",
    "            loss = F.cross_entropy(logits, targets)\n",
    "        \n",
    "        return logits, loss # Logits = unnormalized score of the LLM for each token incomming\n",
    "\n",
    "    def generate(self, index, max_new_tokens):\n",
    "        # Index is (B, T) array of indices int the current context\n",
    "        for _ in range(max_new_tokens):\n",
    "            # Get the preditions\n",
    "            logits, loss = self.forward(index)\n",
    "            # Focus only on the last time step\n",
    "            logits = logits[:, -1, :] # Becomes (B, C)\n",
    "    \n",
    "            # Apply softmax to get the probabilities\n",
    "            proba = F.softmax(logits, dim=-1) # (B, C)\n",
    "            # Sample from the distribution\n",
    "            index_next = torch.multinomial(proba, num_samples=1) # (B, 1)\n",
    "            # Append sampled index to the running sequence\n",
    "            index = torch.cat((index, index_next), dim=-1) #(B, T+1)\n",
    "        return index\n",
    "\n",
    "model = BigramLanguageModel(vocab_size)\n",
    "m = model.to(device)\n",
    "\n",
    "context = torch.zeros((1,1), dtype=torch.long, device=device)\n",
    "generated_chars = decode(m.generate(context, max_new_tokens=500)[0].tolist())\n",
    "print(generated_chars)"
   ]
  },
  {
   "cell_type": "code",
   "execution_count": null,
   "metadata": {},
   "outputs": [],
   "source": []
  },
  {
   "cell_type": "code",
   "execution_count": null,
   "metadata": {},
   "outputs": [],
   "source": []
  },
  {
   "cell_type": "code",
   "execution_count": null,
   "metadata": {},
   "outputs": [],
   "source": []
  },
  {
   "cell_type": "code",
   "execution_count": null,
   "metadata": {},
   "outputs": [],
   "source": []
  }
 ],
 "metadata": {
  "kernelspec": {
   "display_name": "mini-gpt",
   "language": "python",
   "name": "cuda"
  },
  "language_info": {
   "codemirror_mode": {
    "name": "ipython",
    "version": 3
   },
   "file_extension": ".py",
   "mimetype": "text/x-python",
   "name": "python",
   "nbconvert_exporter": "python",
   "pygments_lexer": "ipython3",
   "version": "3.12.4"
  }
 },
 "nbformat": 4,
 "nbformat_minor": 4
}
